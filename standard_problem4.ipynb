{
 "cells": [
  {
   "cell_type": "markdown",
   "metadata": {},
   "source": [
    "# Micromagnetic standard problem 4\n",
    "\n",
    "## Problem specification\n",
    "\n",
    "The sample is a thin film cuboid with dimensions:\n",
    "\n",
    "- length $l_{x} = 500 \\,\\text{nm}$,\n",
    "- width $l_{y} = 125 \\,\\text{nm}$, and\n",
    "- thickness $l_{z} = 3 \\,\\text{nm}$.\n",
    "\n",
    "The material parameters (similar to permalloy) are:\n",
    "\n",
    "- exchange energy constant $A = 1.3 \\times 10^{-11} \\,\\text{J/m}$,\n",
    "- magnetisation saturation $M_\\text{s} = 8 \\times 10^{5} \\,\\text{A/m}$.\n",
    "\n",
    "Magnetisation dynamics are governed by the Landau-Lifshitz-Gilbert equation\n",
    "\n",
    "$$\\frac{d\\mathbf{m}}{dt} = \\underbrace{-\\gamma_{0}(\\mathbf{m} \\times \\mathbf{H}_\\text{eff})}_\\text{precession} + \\underbrace{\\alpha\\left(\\mathbf{m} \\times \\frac{d\\mathbf{m}}{dt}\\right)}_\\text{damping}$$\n",
    "\n",
    "where $\\gamma_{0} = 2.211 \\times 10^{5} \\,\\text{m}\\,\\text{A}^{-1}\\,\\text{s}^{-1}$ and Gilbert damping $\\alpha=0.02$.\n",
    "\n",
    "In the standard problem 4, the system is first relaxed at zero external magnetic field and then, starting from the obtained equlibrium configuration, the magnetisation dynamics are simulated for two external magnetic fields $\\mathbf{B}_{1} = (-24.6, 4.3, 0.0) \\,\\text{mT}$ and $\\mathbf{B}_{2} = (-35.5, -6.3, 0.0) \\,\\text{mT}$.\n",
    "\n",
    "More detailed specification of Standard problem 4 can be found in Ref. 1.\n",
    "\n",
    "## Simulation\n",
    "\n",
    "\n",
    "In the first step, we import the required `discretisedfield` and `oommfc` modules."
   ]
  },
  {
   "cell_type": "code",
   "execution_count": 17,
   "metadata": {},
   "outputs": [],
   "source": [
    "import discretisedfield as df\n",
    "import oommfc as oc"
   ]
  },
  {
   "cell_type": "markdown",
   "metadata": {},
   "source": [
    "Now, we can set all required geometry and material parameters."
   ]
  },
  {
   "cell_type": "code",
   "execution_count": 18,
   "metadata": {
    "collapsed": true
   },
   "outputs": [],
   "source": [
    "# Geometry\n",
    "lx = 500e-9  # x dimension of the sample(m)\n",
    "ly = 125e-9  # y dimension of the sample (m)\n",
    "lz = 3e-9  # sample thickness (m)\n",
    "\n",
    "# Material (permalloy) parameters\n",
    "Ms = 8e5  # saturation magnetisation (A/m)\n",
    "A = 1.3e-11  # exchange energy constant (J/m)\n",
    "\n",
    "# Dynamics (LLG equation) parameters\n",
    "gamma = 2.211e5  # gyromagnetic ratio (m/As)\n",
    "alpha = 0.02  # Gilbert damping"
   ]
  },
  {
   "cell_type": "markdown",
   "metadata": {},
   "source": [
    "## First stage\n",
    "\n",
    "In the first stage, we need to relax the system at zero external magnetic field.\n",
    "\n",
    "We choose `stdprob4` to be the name of the system. This name will be used to name all output files created by OOMMF."
   ]
  },
  {
   "cell_type": "code",
   "execution_count": 19,
   "metadata": {
    "collapsed": true
   },
   "outputs": [],
   "source": [
    "system = oc.System(name='stdprob4')"
   ]
  },
  {
   "cell_type": "markdown",
   "metadata": {},
   "source": [
    "In order to completely define the micromagnetic system, we need to provide:\n",
    "\n",
    "1. hamiltonian $\\mathcal{H}$\n",
    "2. dynamics $\\text{d}\\mathbf{m}/\\text{d}t$\n",
    "3. magnetisation $\\mathbf{m}$\n",
    "\n",
    "The mesh is created by providing two points `p1` and `p2` between which the mesh domain spans and the size of a discretisation cell. We choose the discretisation to be $(5, 5, 3) \\,\\text{nm}$."
   ]
  },
  {
   "cell_type": "code",
   "execution_count": 20,
   "metadata": {
    "collapsed": true
   },
   "outputs": [],
   "source": [
    "cell = (5e-9, 5e-9, 3e-9)  # mesh discretisation (m)\n",
    "\n",
    "mesh = oc.Mesh(p1=(0, 0, 0), p2=(lx, ly, lz), cell=cell)  # Create a mesh object."
   ]
  },
  {
   "cell_type": "markdown",
   "metadata": {},
   "source": [
    "We can visualise the mesh domain and a discretisation cell:"
   ]
  },
  {
   "cell_type": "code",
   "execution_count": 21,
   "metadata": {},
   "outputs": [
    {
     "data": {
      "image/png": "[encoded data removed]",
      "text/plain": [
       "<Figure size 432x288 with 1 Axes>"
      ]
     },
     "metadata": {
      "needs_background": "light"
     },
     "output_type": "display_data"
    }
   ],
   "source": [
    "%matplotlib inline\n",
    "mesh"
   ]
  },
  {
   "cell_type": "markdown",
   "metadata": {},
   "source": [
    "**Hamiltonian:** In the second step, we define the system's Hamiltonian. In this standard problem, the Hamiltonian contains only exchange and demagnetisation energy terms. Please note that in the first simulation stage, there is no applied external magnetic field. Therefore, we do not add Zeeman energy term to the Hamiltonian."
   ]
  },
  {
   "cell_type": "code",
   "execution_count": 22,
   "metadata": {
    "collapsed": true
   },
   "outputs": [],
   "source": [
    "system.hamiltonian = oc.Exchange(A) + oc.Demag()"
   ]
  },
  {
   "cell_type": "markdown",
   "metadata": {},
   "source": [
    "We can check what is the continuous model of system's Hamiltonian."
   ]
  },
  {
   "cell_type": "code",
   "execution_count": 23,
   "metadata": {},
   "outputs": [
    {
     "data": {
      "text/latex": [
       "$\\mathcal{H}=A (\\nabla \\mathbf{m})^{2}-\\frac{1}{2}\\mu_{0}M_\\text{s}\\mathbf{m} \\cdot \\mathbf{H}_\\text{d}$"
      ],
      "text/plain": [
       "Exchange(A=1.3e-11, name=\"exchange\") + Demag(name=\"demag\")"
      ]
     },
     "execution_count": 23,
     "metadata": {},
     "output_type": "execute_result"
    }
   ],
   "source": [
    "system.hamiltonian"
   ]
  },
  {
   "cell_type": "markdown",
   "metadata": {},
   "source": [
    "**Dynamics:** Similarly, the system's dynamics is defined by providing precession and damping terms (LLG equation)."
   ]
  },
  {
   "cell_type": "code",
   "execution_count": 24,
   "metadata": {},
   "outputs": [
    {
     "data": {
      "text/latex": [
       "$\\frac{\\partial \\mathbf{m}}{\\partial t}=-\\gamma_{0}^{*} \\mathbf{m} \\times \\mathbf{H}_\\text{eff}+\\alpha \\mathbf{m} \\times\\frac{\\partial \\mathbf{m}}{\\partial t}$"
      ],
      "text/plain": [
       "Precession(gamma=221100.0, name=\"precession\") + Damping(alpha=0.02, name=\"damping\")"
      ]
     },
     "execution_count": 24,
     "metadata": {},
     "output_type": "execute_result"
    }
   ],
   "source": [
    "system.dynamics = oc.Precession(gamma) + oc.Damping(alpha)\n",
    "\n",
    "system.dynamics  # check the dynamics equation"
   ]
  },
  {
   "cell_type": "markdown",
   "metadata": {},
   "source": [
    "**Magnetisation:** Finally, we have to provide the magnetisation configuration that is going to be relaxed subsequently. We choose the uniform configuration in $(1, 0.25, 0.1)$ direction, and as norm (magnitude) we set the magnetisation saturation $M_\\text{s}$. In order to create the magnetisation configuration, we create a `Field` object from the `discretisedfield` module."
   ]
  },
  {
   "cell_type": "code",
   "execution_count": 25,
   "metadata": {
    "collapsed": true
   },
   "outputs": [],
   "source": [
    "system.m = df.Field(mesh, value=(1, 0.25, 0.1), norm=Ms)"
   ]
  },
  {
   "cell_type": "markdown",
   "metadata": {},
   "source": [
    "Now, the system is fully defined.\n",
    "\n",
    "**Energy minimisation:** The system (its magnetisation) is evolved using a particular driver. In the first stage, we need to relax the system - minimise its energy. Therefore, we create `MinDriver` object and drive the system using its `drive` method."
   ]
  },
  {
   "cell_type": "code",
   "execution_count": 26,
   "metadata": {},
   "outputs": [
    {
     "name": "stdout",
     "output_type": "stream",
     "text": [
      "2018/10/23 16:28: Running OOMMF (stdprob4/stdprob4.mif) ... (1.3 s)\n"
     ]
    }
   ],
   "source": [
    "md = oc.MinDriver()  # create energy minimisation driver\n",
    "md.drive(system)  # minimise the system's energy"
   ]
  },
  {
   "cell_type": "markdown",
   "metadata": {},
   "source": [
    "The system is now relaxed. We can now obtain some data characteristic to the magnetisation field."
   ]
  },
  {
   "cell_type": "code",
   "execution_count": 27,
   "metadata": {},
   "outputs": [
    {
     "name": "stdout",
     "output_type": "stream",
     "text": [
      "The average magnetisation is (772487.2793364485, 193121.81983411213, 77248.72793364472).\n",
      "The magnetisation at the mesh centre (2.5e-07, 6.25e-08, 1.5e-09) is (772487.2793364282, 193121.81983410704, 77248.72793364282).\n"
     ]
    }
   ],
   "source": [
    "print('The average magnetisation is {}.'.format(system.m.average))\n",
    "\n",
    "print('The magnetisation at the mesh centre {} is {}.'.format(\n",
    "        system.m.mesh.centre, system.m(system.m.mesh.centre)))"
   ]
  },
  {
   "cell_type": "markdown",
   "metadata": {},
   "source": [
    "## Second stage: field $\\mathbf{B}_{1}$"
   ]
  },
  {
   "cell_type": "markdown",
   "metadata": {},
   "source": [
    "In the second stage, we need to apply an external magnetic field $\\mathbf{B}_{1} = (-24.6, 4.3, 0.0) \\,\\text{mT}$ to the system. In other words, we have to add Zeeman energy term to the Hamiltonian."
   ]
  },
  {
   "cell_type": "code",
   "execution_count": 28,
   "metadata": {
    "collapsed": true
   },
   "outputs": [],
   "source": [
    "# Add Zeeman energy term to the Hamiltonian\n",
    "H1 = (-24.6e-3/oc.mu0, 4.3e-3/oc.mu0, 0.0)\n",
    "system.hamiltonian += oc.Zeeman(H1)"
   ]
  },
  {
   "cell_type": "markdown",
   "metadata": {},
   "source": [
    "If we now inspect the Hamiltonian, we see that an additional Zeeman term is added."
   ]
  },
  {
   "cell_type": "code",
   "execution_count": 29,
   "metadata": {},
   "outputs": [
    {
     "data": {
      "text/latex": [
       "$\\mathcal{H}=A (\\nabla \\mathbf{m})^{2}-\\frac{1}{2}\\mu_{0}M_\\text{s}\\mathbf{m} \\cdot \\mathbf{H}_\\text{d}-\\mu_{0}M_\\text{s} \\mathbf{m} \\cdot \\mathbf{H}$"
      ],
      "text/plain": [
       "Exchange(A=1.3e-11, name=\"exchange\") + Demag(name=\"demag\") + Zeeman(H=(-19576.05800030313, 3421.8312764757497, 0.0), name=\"zeeman\")"
      ]
     },
     "execution_count": 29,
     "metadata": {},
     "output_type": "execute_result"
    }
   ],
   "source": [
    "system.hamiltonian"
   ]
  },
  {
   "cell_type": "markdown",
   "metadata": {},
   "source": [
    "Finally, we can run the simulation using `TimeDriver` this time. We run the magnetisation evolution for $t=1 \\,\\text{ns}$, during which we save the system's state $n=200$ times."
   ]
  },
  {
   "cell_type": "code",
   "execution_count": 30,
   "metadata": {},
   "outputs": [
    {
     "name": "stdout",
     "output_type": "stream",
     "text": [
      "2018/10/23 16:28: Running OOMMF (stdprob4/stdprob4.mif) ... (10.7 s)\n"
     ]
    }
   ],
   "source": [
    "t = 1e-9  # simulation time (s)\n",
    "n = 200  # number of data saving steps\n",
    "\n",
    "td = oc.TimeDriver()  # create time driver\n",
    "td.drive(system, t=t, n=n)  # drive the system"
   ]
  },
  {
   "cell_type": "markdown",
   "metadata": {},
   "source": [
    "### Postprocessing"
   ]
  },
  {
   "cell_type": "markdown",
   "metadata": {},
   "source": [
    "When we drove the system using the `TimeDriver`, we specified that we want to save the magnetisation configuration $n=200$ times. A detailed table of all computed parameters from the last simulation can be shown from the datatable (`system.dt`), which is a `pandas` dataframe [2].\n",
    "\n",
    "For instance, if we want to show the last 10 rows in the table, we run:"
   ]
  },
  {
   "cell_type": "code",
   "execution_count": 31,
   "metadata": {},
   "outputs": [
    {
     "data": {
      "text/html": [
       "<div>\n",
       "<style scoped>\n",
       "    .dataframe tbody tr th:only-of-type {\n",
       "        vertical-align: middle;\n",
       "    }\n",
       "\n",
       "    .dataframe tbody tr th {\n",
       "        vertical-align: top;\n",
       "    }\n",
       "\n",
       "    .dataframe thead th {\n",
       "        text-align: right;\n",
       "    }\n",
       "</style>\n",
       "<table border=\"1\" class=\"dataframe\">\n",
       "  <thead>\n",
       "    <tr style=\"text-align: right;\">\n",
       "      <th></th>\n",
       "      <th>E</th>\n",
       "      <th>Ecount</th>\n",
       "      <th>max_dm/dt</th>\n",
       "      <th>dE/dt</th>\n",
       "      <th>deltaE</th>\n",
       "      <th>E_Exchange</th>\n",
       "      <th>max_spin_angle</th>\n",
       "      <th>stage_max_spin_angle</th>\n",
       "      <th>run_max_spin_angle</th>\n",
       "      <th>E_Demag</th>\n",
       "      <th>E_Zeeman</th>\n",
       "      <th>iteration</th>\n",
       "      <th>stage_iteration</th>\n",
       "      <th>stage</th>\n",
       "      <th>mx</th>\n",
       "      <th>my</th>\n",
       "      <th>mz</th>\n",
       "      <th>last_time_step</th>\n",
       "      <th>t</th>\n",
       "    </tr>\n",
       "  </thead>\n",
       "  <tbody>\n",
       "    <tr>\n",
       "      <th>195</th>\n",
       "      <td>2.112534e-18</td>\n",
       "      <td>3748.0</td>\n",
       "      <td>5298.625106</td>\n",
       "      <td>-9.295965e-09</td>\n",
       "      <td>-1.266227e-20</td>\n",
       "      <td>1.742733e-18</td>\n",
       "      <td>53.666961</td>\n",
       "      <td>53.666961</td>\n",
       "      <td>53.666961</td>\n",
       "      <td>3.808592e-18</td>\n",
       "      <td>-3.438791e-18</td>\n",
       "      <td>787.0</td>\n",
       "      <td>3.0</td>\n",
       "      <td>195.0</td>\n",
       "      <td>-0.923538</td>\n",
       "      <td>0.047961</td>\n",
       "      <td>-0.067893</td>\n",
       "      <td>1.355496e-12</td>\n",
       "      <td>9.800000e-10</td>\n",
       "    </tr>\n",
       "    <tr>\n",
       "      <th>196</th>\n",
       "      <td>2.067159e-18</td>\n",
       "      <td>3767.0</td>\n",
       "      <td>5035.192967</td>\n",
       "      <td>-8.815293e-09</td>\n",
       "      <td>-1.204369e-20</td>\n",
       "      <td>1.874195e-18</td>\n",
       "      <td>51.404011</td>\n",
       "      <td>53.818936</td>\n",
       "      <td>53.818936</td>\n",
       "      <td>3.582140e-18</td>\n",
       "      <td>-3.389176e-18</td>\n",
       "      <td>791.0</td>\n",
       "      <td>3.0</td>\n",
       "      <td>196.0</td>\n",
       "      <td>-0.914278</td>\n",
       "      <td>0.024019</td>\n",
       "      <td>-0.064945</td>\n",
       "      <td>1.354333e-12</td>\n",
       "      <td>9.850000e-10</td>\n",
       "    </tr>\n",
       "    <tr>\n",
       "      <th>197</th>\n",
       "      <td>2.024655e-18</td>\n",
       "      <td>3786.0</td>\n",
       "      <td>6066.902182</td>\n",
       "      <td>-8.176785e-09</td>\n",
       "      <td>-1.117432e-20</td>\n",
       "      <td>2.012887e-18</td>\n",
       "      <td>44.249806</td>\n",
       "      <td>51.404011</td>\n",
       "      <td>53.818936</td>\n",
       "      <td>3.324350e-18</td>\n",
       "      <td>-3.312582e-18</td>\n",
       "      <td>795.0</td>\n",
       "      <td>3.0</td>\n",
       "      <td>197.0</td>\n",
       "      <td>-0.896709</td>\n",
       "      <td>0.005775</td>\n",
       "      <td>-0.061456</td>\n",
       "      <td>1.352046e-12</td>\n",
       "      <td>9.900000e-10</td>\n",
       "    </tr>\n",
       "    <tr>\n",
       "      <th>198</th>\n",
       "      <td>1.985246e-18</td>\n",
       "      <td>3805.0</td>\n",
       "      <td>6124.734285</td>\n",
       "      <td>-7.629952e-09</td>\n",
       "      <td>-1.034672e-20</td>\n",
       "      <td>2.146091e-18</td>\n",
       "      <td>48.942501</td>\n",
       "      <td>48.942501</td>\n",
       "      <td>53.818936</td>\n",
       "      <td>3.062966e-18</td>\n",
       "      <td>-3.223811e-18</td>\n",
       "      <td>799.0</td>\n",
       "      <td>3.0</td>\n",
       "      <td>198.0</td>\n",
       "      <td>-0.874838</td>\n",
       "      <td>-0.006731</td>\n",
       "      <td>-0.057401</td>\n",
       "      <td>1.346005e-12</td>\n",
       "      <td>9.950000e-10</td>\n",
       "    </tr>\n",
       "    <tr>\n",
       "      <th>199</th>\n",
       "      <td>1.947593e-18</td>\n",
       "      <td>3824.0</td>\n",
       "      <td>6004.232063</td>\n",
       "      <td>-7.542039e-09</td>\n",
       "      <td>-1.007869e-20</td>\n",
       "      <td>2.267998e-18</td>\n",
       "      <td>51.818155</td>\n",
       "      <td>52.056473</td>\n",
       "      <td>53.818936</td>\n",
       "      <td>2.813190e-18</td>\n",
       "      <td>-3.133595e-18</td>\n",
       "      <td>803.0</td>\n",
       "      <td>3.0</td>\n",
       "      <td>199.0</td>\n",
       "      <td>-0.851905</td>\n",
       "      <td>-0.015404</td>\n",
       "      <td>-0.052998</td>\n",
       "      <td>1.341153e-12</td>\n",
       "      <td>1.000000e-09</td>\n",
       "    </tr>\n",
       "  </tbody>\n",
       "</table>\n",
       "</div>"
      ],
      "text/plain": [
       "                E  Ecount    max_dm/dt         dE/dt        deltaE  \\\n",
       "195  2.112534e-18  3748.0  5298.625106 -9.295965e-09 -1.266227e-20   \n",
       "196  2.067159e-18  3767.0  5035.192967 -8.815293e-09 -1.204369e-20   \n",
       "197  2.024655e-18  3786.0  6066.902182 -8.176785e-09 -1.117432e-20   \n",
       "198  1.985246e-18  3805.0  6124.734285 -7.629952e-09 -1.034672e-20   \n",
       "199  1.947593e-18  3824.0  6004.232063 -7.542039e-09 -1.007869e-20   \n",
       "\n",
       "       E_Exchange  max_spin_angle  stage_max_spin_angle  run_max_spin_angle  \\\n",
       "195  1.742733e-18       53.666961             53.666961           53.666961   \n",
       "196  1.874195e-18       51.404011             53.818936           53.818936   \n",
       "197  2.012887e-18       44.249806             51.404011           53.818936   \n",
       "198  2.146091e-18       48.942501             48.942501           53.818936   \n",
       "199  2.267998e-18       51.818155             52.056473           53.818936   \n",
       "\n",
       "          E_Demag      E_Zeeman  iteration  stage_iteration  stage        mx  \\\n",
       "195  3.808592e-18 -3.438791e-18      787.0              3.0  195.0 -0.923538   \n",
       "196  3.582140e-18 -3.389176e-18      791.0              3.0  196.0 -0.914278   \n",
       "197  3.324350e-18 -3.312582e-18      795.0              3.0  197.0 -0.896709   \n",
       "198  3.062966e-18 -3.223811e-18      799.0              3.0  198.0 -0.874838   \n",
       "199  2.813190e-18 -3.133595e-18      803.0              3.0  199.0 -0.851905   \n",
       "\n",
       "           my        mz  last_time_step             t  \n",
       "195  0.047961 -0.067893    1.355496e-12  9.800000e-10  \n",
       "196  0.024019 -0.064945    1.354333e-12  9.850000e-10  \n",
       "197  0.005775 -0.061456    1.352046e-12  9.900000e-10  \n",
       "198 -0.006731 -0.057401    1.346005e-12  9.950000e-10  \n",
       "199 -0.015404 -0.052998    1.341153e-12  1.000000e-09  "
      ]
     },
     "execution_count": 31,
     "metadata": {},
     "output_type": "execute_result"
    }
   ],
   "source": [
    "system.dt.tail()"
   ]
  },
  {
   "cell_type": "markdown",
   "metadata": {},
   "source": [
    "Finally, we want to plot the average magnetisation configuration `my` as a function of time `t`:"
   ]
  },
  {
   "cell_type": "code",
   "execution_count": 39,
   "metadata": {},
   "outputs": [
    {
     "data": {
      "image/png": "[encoded data removed]",
      "text/plain": [
       "<Figure size 432x288 with 1 Axes>"
      ]
     },
     "metadata": {
      "needs_background": "light"
     },
     "output_type": "display_data"
    }
   ],
   "source": [
    "myplot = system.dt.plot(\"t\", \"mx\")"
   ]
  },
  {
   "cell_type": "code",
   "execution_count": 40,
   "metadata": {},
   "outputs": [],
   "source": [
    "# myplot = system.dt.plot(\"t\", [\"my\", \"mx\"])"
   ]
  },
  {
   "cell_type": "code",
   "execution_count": 41,
   "metadata": {},
   "outputs": [],
   "source": [
    "# myplot = system.dt.plot(\"t\", \"E\" )"
   ]
  },
  {
   "cell_type": "markdown",
   "metadata": {},
   "source": [
    "## References\n",
    "\n",
    "[1] µMAG Site Directory: http://www.ctcms.nist.gov/~rdm/mumag.org.html\n",
    "    \n",
    "[2] Pandas: http://pandas.pydata.org/"
   ]
  }
 ],
 "metadata": {
  "kernelspec": {
   "display_name": "Python 3",
   "language": "python",
   "name": "python3"
  },
  "language_info": {
   "codemirror_mode": {
    "name": "ipython",
    "version": 3
   },
   "file_extension": ".py",
   "mimetype": "text/x-python",
   "name": "python",
   "nbconvert_exporter": "python",
   "pygments_lexer": "ipython3",
   "version": "3.6.3"
  }
 },
 "nbformat": 4,
 "nbformat_minor": 2
}
