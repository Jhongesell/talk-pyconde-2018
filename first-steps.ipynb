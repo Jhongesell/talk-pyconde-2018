{
 "cells": [
  {
   "cell_type": "markdown",
   "metadata": {},
   "source": [
    "## Simple micromagnetic problem"
   ]
  },
  {
   "cell_type": "code",
   "execution_count": null,
   "metadata": {},
   "outputs": [],
   "source": [
    "import oommfc as oommf_calc\n",
    "\n",
    "system = oommf_calc.System(name=\"name\")"
   ]
  },
  {
   "cell_type": "markdown",
   "metadata": {},
   "source": [
    "We define the mesh by providing two points between which the domain spans as well as the size of the discretisation cell."
   ]
  },
  {
   "cell_type": "markdown",
   "metadata": {},
   "source": [
    "Our Hamiltonian contains only exchange, demagnetisation, and Zeeman energy terms. "
   ]
  },
  {
   "cell_type": "code",
   "execution_count": null,
   "metadata": {},
   "outputs": [],
   "source": [
    "H = (8e6, 0, 0)    # apply field in x-direction\n",
    "system.hamiltonian = oommf_calc.Exchange(A=1e-12) + oommf_calc.Demag() + oommf_calc.Zeeman(H=H)"
   ]
  },
  {
   "cell_type": "code",
   "execution_count": null,
   "metadata": {},
   "outputs": [],
   "source": []
  },
  {
   "cell_type": "markdown",
   "metadata": {},
   "source": [
    "Dynamics of the system is governed by the LLG equation containing precession and damping terms."
   ]
  },
  {
   "cell_type": "code",
   "execution_count": null,
   "metadata": {},
   "outputs": [],
   "source": [
    "system.dynamics = oommf_calc.Precession(gamma=oommf_calc.gamma0) + oommf_calc.Damping(alpha=0.2)"
   ]
  },
  {
   "cell_type": "code",
   "execution_count": null,
   "metadata": {},
   "outputs": [],
   "source": []
  },
  {
   "cell_type": "markdown",
   "metadata": {},
   "source": [
    "We initialise the system in (0, 1, 0) direction:"
   ]
  },
  {
   "cell_type": "code",
   "execution_count": null,
   "metadata": {},
   "outputs": [],
   "source": [
    "%matplotlib inline\n",
    "L = 100e-9     # m ; edge length of simulation cube \n",
    "d = 10e-9      # m ; edge length of discretisation cell size\n",
    "mesh = oommf_calc.Mesh(p1=(0, 0, 0), p2=(L, L, L), cell=(d, d, d))"
   ]
  },
  {
   "cell_type": "code",
   "execution_count": null,
   "metadata": {},
   "outputs": [],
   "source": [
    "import discretisedfield as df\n",
    "system.m = df.Field(mesh, value=(0, 1, 0), norm=8e6)"
   ]
  },
  {
   "cell_type": "code",
   "execution_count": null,
   "metadata": {},
   "outputs": [],
   "source": [
    "%matplotlib inline\n",
    "system.m.plot_plane('z')"
   ]
  },
  {
   "cell_type": "markdown",
   "metadata": {},
   "source": [
    "After the system object is created, we can minimise its energy using the Minimisation Driver (`MinDriver`)."
   ]
  },
  {
   "cell_type": "code",
   "execution_count": null,
   "metadata": {},
   "outputs": [],
   "source": [
    "md = oommf_calc.MinDriver()    # minimisation_driver\n",
    "md.drive(system)"
   ]
  },
  {
   "cell_type": "markdown",
   "metadata": {},
   "source": [
    "The system is now relaxed, and we can plot its slice and compute its average magnetisation."
   ]
  },
  {
   "cell_type": "code",
   "execution_count": null,
   "metadata": {},
   "outputs": [],
   "source": [
    "system.m.plot_plane(\"z\")"
   ]
  },
  {
   "cell_type": "markdown",
   "metadata": {},
   "source": [
    "We can see that the magnetisation is aligned along the \"x\" direction, as expected having in mind we applied the external magnetic field in that direction."
   ]
  }
 ],
 "metadata": {
  "anaconda-cloud": {},
  "kernelspec": {
   "display_name": "Python 3",
   "language": "python",
   "name": "python3"
  },
  "language_info": {
   "codemirror_mode": {
    "name": "ipython",
    "version": 3
   },
   "file_extension": ".py",
   "mimetype": "text/x-python",
   "name": "python",
   "nbconvert_exporter": "python",
   "pygments_lexer": "ipython3",
   "version": "3.6.3"
  }
 },
 "nbformat": 4,
 "nbformat_minor": 2
}
